{
 "cells": [
  {
   "cell_type": "markdown",
   "id": "0da0ff3d-d0cf-4d12-96e6-e345bc79ddb2",
   "metadata": {},
   "source": [
    "#Q1. What are the characteristics of the tuples? Is tuple immutable?"
   ]
  },
  {
   "cell_type": "markdown",
   "id": "b6e1fdfe-b5f5-424c-b347-1e221fcf1a52",
   "metadata": {},
   "source": [
    "Ans- Tuples are basicaly follows immutability concepts where it is not goint to allow to change any elements at a particular index.\n",
    "tuples are ordered,indexed and can have duplicates items ."
   ]
  },
  {
   "cell_type": "markdown",
   "id": "b9114bb7-ab9f-4ba8-adcd-94229eada2f0",
   "metadata": {},
   "source": [
    "Q2. What are the two tuple methods in python? Give an example of each method. Give a reason why\n",
    "tuples have only two in-built methods as compared to Lists."
   ]
  },
  {
   "cell_type": "markdown",
   "id": "6241a3c9-783c-4fb4-bd3d-8cb27e253390",
   "metadata": {},
   "source": [
    "Ans - There are two method in tuples \n",
    "a .count \n",
    "b .index\n",
    "#Examples of methods "
   ]
  },
  {
   "cell_type": "code",
   "execution_count": 6,
   "id": "3cc3b145-a05c-4a56-92da-b54b873b5107",
   "metadata": {},
   "outputs": [
    {
     "name": "stdout",
     "output_type": "stream",
     "text": [
      "3\n"
     ]
    }
   ],
   "source": [
    "t1 = (1,2,3,4,5,6,7,4,5,4)\n",
    "x=t1.count(4)\n",
    "print(x)"
   ]
  },
  {
   "cell_type": "code",
   "execution_count": 7,
   "id": "175122f2-5254-4c70-afa6-546b616a2c98",
   "metadata": {},
   "outputs": [
    {
     "name": "stdout",
     "output_type": "stream",
     "text": [
      "2\n"
     ]
    }
   ],
   "source": [
    "t1 = (1,2,3,4,5,6,7,4,5,4)\n",
    "x= t1.index(3)\n",
    "print(x)"
   ]
  },
  {
   "cell_type": "markdown",
   "id": "38b76b5c-074a-4c64-8890-01979dd8aed3",
   "metadata": {},
   "source": [
    " tuples are immutable that why they can not change their contents  and the lenght of tuples are also fixed hence they have only two methods."
   ]
  },
  {
   "cell_type": "markdown",
   "id": "9b15b784-ecf1-460e-929c-f1c7ef716f44",
   "metadata": {},
   "source": [
    "Q3.Which collection datatypes in python do not allow duplicate items? Write a code using a set to remove\n",
    "duplicates from the given list."
   ]
  },
  {
   "cell_type": "markdown",
   "id": "ebbc02a0-759d-474f-b73a-0b9585e9c4b0",
   "metadata": {},
   "source": [
    "Sets in Python are unordered collections of unique elements. By their nature, duplicates are not  allowed."
   ]
  },
  {
   "cell_type": "code",
   "execution_count": 9,
   "id": "befbbb16-7036-406c-9817-5b39b2369e91",
   "metadata": {},
   "outputs": [
    {
     "name": "stdout",
     "output_type": "stream",
     "text": [
      "[1, 2, 3, 4]\n"
     ]
    }
   ],
   "source": [
    "List = [1, 1, 1, 2, 1, 3, 1, 4, 2, 1, 2, 2, 2, 3, 2, 4, 3, 1, 3, 2, 3, 3, 3, 4, 4, 1, 4, 2, 4, 3, 4, 4]\n",
    "new_list = list(set(List))\n",
    "print(new_list)"
   ]
  },
  {
   "cell_type": "markdown",
   "id": "e95061dd-d699-48cd-85ca-af936848be4e",
   "metadata": {},
   "source": [
    "Q4. Explain the difference between the union() and update() methods for a set. Give an example of\n",
    "each method."
   ]
  },
  {
   "cell_type": "markdown",
   "id": "2b0b8e5e-b996-452e-852b-95ceeb6e3c6a",
   "metadata": {},
   "source": [
    "Ans - The union() method returns a new set that contains all the elements from both sets. It does not modify the original sets whereas update() modify the original sets."
   ]
  },
  {
   "cell_type": "code",
   "execution_count": 12,
   "id": "bc1371ce-1228-4c4e-a53b-06502da0c66a",
   "metadata": {},
   "outputs": [
    {
     "name": "stdout",
     "output_type": "stream",
     "text": [
      "{1, 2, 3, 4, 5}\n"
     ]
    }
   ],
   "source": [
    "set1 = {1, 2, 3}\n",
    "set2 = {3, 4, 5}\n",
    "set3 = set1.union(set2)\n",
    "print(set3)"
   ]
  },
  {
   "cell_type": "code",
   "execution_count": 13,
   "id": "9fbf007f-9fdb-4ba3-bad8-18b04546d11e",
   "metadata": {},
   "outputs": [
    {
     "data": {
      "text/plain": [
       "{1, 2, 3}"
      ]
     },
     "execution_count": 13,
     "metadata": {},
     "output_type": "execute_result"
    }
   ],
   "source": [
    "set1"
   ]
  },
  {
   "cell_type": "code",
   "execution_count": 17,
   "id": "8aa9b602-34a6-4b07-b4d1-e28d9a8be497",
   "metadata": {},
   "outputs": [
    {
     "name": "stdout",
     "output_type": "stream",
     "text": [
      "{1, 2, 3, 4, 5}\n"
     ]
    }
   ],
   "source": [
    "set1 = {1, 2, 3}\n",
    "set2 = {3, 4, 5}\n",
    "set3 = set1.update(set2)\n",
    "print(set1)"
   ]
  },
  {
   "cell_type": "code",
   "execution_count": 18,
   "id": "793ca400-27bb-4073-9d76-62c9da06c797",
   "metadata": {},
   "outputs": [
    {
     "data": {
      "text/plain": [
       "{1, 2, 3, 4, 5}"
      ]
     },
     "execution_count": 18,
     "metadata": {},
     "output_type": "execute_result"
    }
   ],
   "source": [
    "set1"
   ]
  },
  {
   "cell_type": "markdown",
   "id": "48d29c05-b158-41fd-b23d-b4f661f7220a",
   "metadata": {},
   "source": [
    "Q5. What is a dictionary? Give an example. Also, state whether a dictionary is ordered or unordered."
   ]
  },
  {
   "cell_type": "markdown",
   "id": "a33f46e6-f8fa-4eda-8c90-2d7675e1b225",
   "metadata": {},
   "source": [
    "ans-The dictionary is an ordered collection that contains key:value pairs separated by commas inside curly brackets.\n",
    "Dicionar is ordered after python 3.7 before that it was unorded."
   ]
  },
  {
   "cell_type": "code",
   "execution_count": 21,
   "id": "55aff4cc-15bb-4617-97b9-ba058431e606",
   "metadata": {},
   "outputs": [
    {
     "name": "stdout",
     "output_type": "stream",
     "text": [
      "{3: 'Three', 7: 'Seven', 1: 'One', 2: 'Two'}\n"
     ]
    }
   ],
   "source": [
    "dict1={ 3: \"Three\", 7: \"Seven\", 1: \"One\" ,2: \"Two\"}\n",
    "\n",
    "print(dict1)"
   ]
  },
  {
   "cell_type": "markdown",
   "id": "67eae88e-76f2-4dda-a232-5d15cb1f99eb",
   "metadata": {},
   "source": [
    "Q6.Can we create a nested dictionary? If so, please give an example by creating a simple one-level\n",
    "nested dictionary."
   ]
  },
  {
   "cell_type": "markdown",
   "id": "45c6975b-ce5b-4874-89ad-1e9ea6f4c627",
   "metadata": {},
   "source": [
    "Yes we can create a nested dictionary."
   ]
  },
  {
   "cell_type": "code",
   "execution_count": 22,
   "id": "70f605dd-3886-4932-8136-28fba6c5f4b7",
   "metadata": {},
   "outputs": [],
   "source": [
    "dictionary = {'key' : 'value',\n",
    "'key_2': 'value_2'}"
   ]
  },
  {
   "cell_type": "code",
   "execution_count": 23,
   "id": "57b65cd4-f79e-42d3-b752-a9b61031fc13",
   "metadata": {},
   "outputs": [],
   "source": [
    "nested_dict = { 'dictA': {'key_1': 'value_1'},\n",
    "                'dictB': {'key_2': 'value_2'}}"
   ]
  },
  {
   "cell_type": "markdown",
   "id": "0825b4aa-8229-4b66-a47f-12c8ee0256aa",
   "metadata": {},
   "source": [
    "Q7. Using setdefault() method, create key named topics in the given dictionary and also add the value of\n",
    "the key as this list ['Python', 'Machine Learning’, 'Deep Learning']\n",
    "dict1 = {'language' : 'Python', 'course': 'Data Science Masters'}"
   ]
  },
  {
   "cell_type": "code",
   "execution_count": 24,
   "id": "fa2b2e4f-8c11-4a1b-870f-35c5458c5358",
   "metadata": {},
   "outputs": [
    {
     "name": "stdout",
     "output_type": "stream",
     "text": [
      "{'language': 'Python', 'course': 'Data Science Masters', 'topics': ['Python', 'Machine Learning', 'Deep Learning']}\n"
     ]
    }
   ],
   "source": [
    "dict1 = {'language': 'Python', 'course': 'Data Science Masters'}\n",
    "\n",
    "dict1.setdefault('topics', ['Python', 'Machine Learning', 'Deep Learning'])\n",
    "\n",
    "print(dict1)"
   ]
  },
  {
   "cell_type": "markdown",
   "id": "0f54d5c7-d5f5-427f-a02d-b53a87323e5e",
   "metadata": {},
   "source": [
    "Q8. What are the three view objects in dictionaries? Use the three in-built methods in python to display\n",
    "these three view objects for the given dictionary.\n",
    "dict1 = {'Sport': 'Cricket' , 'Teams': ['India', 'Australia', 'England', 'South Africa', 'Sri Lanka', 'New Zealand']}"
   ]
  },
  {
   "cell_type": "markdown",
   "id": "afafa75f-2d6a-4e15-a349-1f8cdb892596",
   "metadata": {},
   "source": [
    "In Python, dictionaries provide three view objects: keys(), values(), and items(). These view objects allow you to access the keys, values, and key-value pairs of a dictionary, respectively, without creating a new list or tuple. Here's an example that demonstrates these view objects for the given dictionary:\n",
    "\n",
    "dict1 = {'Sport': 'Cricket', 'Teams': ['India', 'Australia', 'England', 'South Africa', 'Sri Lanka', 'New Zealand']}\n",
    "\n"
   ]
  },
  {
   "cell_type": "code",
   "execution_count": 25,
   "id": "a103c754-715b-41ad-b7fa-81d78277e60d",
   "metadata": {},
   "outputs": [
    {
     "name": "stdout",
     "output_type": "stream",
     "text": [
      "Keys:\n",
      "Sport\n",
      "Teams\n"
     ]
    }
   ],
   "source": [
    "dict1 = {'Sport': 'Cricket', 'Teams': ['India', 'Australia', 'England', 'South Africa', 'Sri Lanka', 'New Zealand']}\n",
    "print(\"Keys:\")\n",
    "for key in dict1.keys():\n",
    "    print(key)"
   ]
  },
  {
   "cell_type": "code",
   "execution_count": 28,
   "id": "f7f780da-018b-4382-83fe-23a75fd88e6e",
   "metadata": {},
   "outputs": [
    {
     "name": "stdout",
     "output_type": "stream",
     "text": [
      "\n",
      "Values:\n",
      "Cricket\n",
      "['India', 'Australia', 'England', 'South Africa', 'Sri Lanka', 'New Zealand']\n"
     ]
    }
   ],
   "source": [
    "dict1 = {'Sport': 'Cricket', 'Teams': ['India', 'Australia', 'England', 'South Africa', 'Sri Lanka', 'New Zealand']}\n",
    "print(\"\\nValues:\")\n",
    "for value in dict1.values():\n",
    "    print(value)"
   ]
  },
  {
   "cell_type": "code",
   "execution_count": 29,
   "id": "6528d791-b5fb-427f-9bfc-749c7374798a",
   "metadata": {},
   "outputs": [
    {
     "name": "stdout",
     "output_type": "stream",
     "text": [
      "Sport -> Cricket\n",
      "Teams -> ['India', 'Australia', 'England', 'South Africa', 'Sri Lanka', 'New Zealand']\n"
     ]
    }
   ],
   "source": [
    "for key, value in dict1.items():\n",
    "    print(key, \"->\", value)"
   ]
  },
  {
   "cell_type": "code",
   "execution_count": null,
   "id": "56ed8190-2002-4b77-bda9-d6e82eed7d7f",
   "metadata": {},
   "outputs": [],
   "source": []
  }
 ],
 "metadata": {
  "kernelspec": {
   "display_name": "Python 3 (ipykernel)",
   "language": "python",
   "name": "python3"
  },
  "language_info": {
   "codemirror_mode": {
    "name": "ipython",
    "version": 3
   },
   "file_extension": ".py",
   "mimetype": "text/x-python",
   "name": "python",
   "nbconvert_exporter": "python",
   "pygments_lexer": "ipython3",
   "version": "3.10.8"
  }
 },
 "nbformat": 4,
 "nbformat_minor": 5
}
